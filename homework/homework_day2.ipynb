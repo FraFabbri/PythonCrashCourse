{
 "cells": [
  {
   "cell_type": "markdown",
   "metadata": {
    "deletable": true,
    "editable": true
   },
   "source": [
    "<center>\n",
    "<hr>\n",
    "<h1>Python Crash Course</h1>\n",
    "<h2>Master in Data Science - Sapienza University</h2>\n",
    "<h2>Homework 2: Python Challenges</h2>\n",
    "<h3>A.Y. 2017/18</h3>\n",
    "<h3>Tutor: Francesco Fabbri</h3>\n",
    "<hr>\n",
    "</center>\n"
   ]
  },
  {
   "cell_type": "markdown",
   "metadata": {
    "deletable": true,
    "editable": true
   },
   "source": [
    "# Instructions\n",
    "So guys, here we are! **Finally** you're facing your first **REAL** homework. Are you ready to fight?\n",
    "We're going to apply all the Pythonic stuff seen before AND EVEN MORE...\n",
    "\n",
    "\n",
    "## Simple rules:\n",
    "\n",
    "1. Don't touch the instructions, you **just have to fill the blank rows**.\n",
    "\n",
    "\n",
    "2. This is supposed to be an exercise for improving your Pythonic Skills in a spirit of collaboration so...of course you can help your classmates and obviously get a really huge help from all the others as well (as the proverb says: \"I get help from you and then you help me\", right?!...)\n",
    "\n",
    "\n",
    "3. **RULE OF THUMB** for you during the homework:\n",
    "    - *1st Step:* try to solve the problem alone\n",
    "    - *2nd Step:* googling randomly the answer\n",
    "    - *3rd Step:* ask to your colleagues\n",
    "    - *3rd Step:* screaming and complaining about life \n",
    "    - *4th Step:* ask to Tutors"
   ]
  },
  {
   "cell_type": "markdown",
   "metadata": {
    "deletable": true,
    "editable": true
   },
   "source": [
    "### 1. 12! is equal to..."
   ]
  },
  {
   "cell_type": "code",
   "execution_count": 1,
   "metadata": {
    "collapsed": false,
    "deletable": true,
    "editable": true
   },
   "outputs": [],
   "source": [
    "# write here your code"
   ]
  },
  {
   "cell_type": "markdown",
   "metadata": {
    "deletable": true,
    "editable": true
   },
   "source": [
    "### 2. More math...\n",
    "Write a program which will find all such numbers which are divisible by 7 but are not a multiple of 5, between 0 and 1000 (both included). The numbers obtained should be printed in a comma-separated sequence on a single line. (range and CFS)"
   ]
  },
  {
   "cell_type": "code",
   "execution_count": 2,
   "metadata": {
    "collapsed": false,
    "deletable": true,
    "editable": true
   },
   "outputs": [],
   "source": [
    "# write here your code"
   ]
  },
  {
   "cell_type": "markdown",
   "metadata": {
    "deletable": true,
    "editable": true
   },
   "source": [
    "### 3. Count capital letters\n",
    "In this exercises you're going to deal with YOUR DATA. Indeed, in the list below there are stored your Favorite Tv Series. But, as you can see, there is something weird. There are too much CaPITal LeTTErs. Your task is to count the capital letters in all the strings and then print the total number of capital letters in all the list."
   ]
  },
  {
   "cell_type": "code",
   "execution_count": 4,
   "metadata": {
    "collapsed": true,
    "deletable": true,
    "editable": true
   },
   "outputs": [],
   "source": [
    "tv_series = ['Game of THRroneS',\n",
    "             'big bang tHeOrY',\n",
    "             'MR robot',\n",
    "             'WesTWorlD',\n",
    "             'fIRefLy',\n",
    "             'HOW I MET your mothER',\n",
    "             'friENds',\n",
    "             'bRon broen',\n",
    "             'gossip girl',\n",
    "             'prISon break',\n",
    "             'breaking BAD']"
   ]
  },
  {
   "cell_type": "code",
   "execution_count": 5,
   "metadata": {
    "collapsed": true,
    "deletable": true,
    "editable": true
   },
   "outputs": [],
   "source": [
    "# write here your code"
   ]
  },
  {
   "cell_type": "markdown",
   "metadata": {
    "deletable": true,
    "editable": true
   },
   "source": [
    "### 4a. A remark\n",
    "\n",
    "Using the list above, create a dictionary where the keys are Unique IDs and values the TV Series.\n",
    "You have to do the exercise keeping in mind the following constraint: the order of the IDs has to be **dependent on the alphabetical order of the titles**, i.e. 0: first_title_in_alphabetical_order and so on..."
   ]
  },
  {
   "cell_type": "code",
   "execution_count": 6,
   "metadata": {
    "collapsed": true,
    "deletable": true,
    "editable": true
   },
   "outputs": [],
   "source": [
    "# write here your code"
   ]
  },
  {
   "cell_type": "markdown",
   "metadata": {},
   "source": [
    "### 4b. **Solve the mess** \n",
    "Now, looking at the capital letters in each title we want to fix the messy strings: in order to do that, we need to put these only at the start of the titles (\"prISon break\" should be \"Prison break\")."
   ]
  },
  {
   "cell_type": "code",
   "execution_count": null,
   "metadata": {
    "collapsed": true
   },
   "outputs": [],
   "source": [
    "# write here your code"
   ]
  },
  {
   "cell_type": "markdown",
   "metadata": {
    "deletable": true,
    "editable": true
   },
   "source": [
    "### 4c. Dictionary to its maximum\n",
    "Invert the keys with the values in the dictionary built before. "
   ]
  },
  {
   "cell_type": "code",
   "execution_count": 7,
   "metadata": {
    "collapsed": true,
    "deletable": true,
    "editable": true
   },
   "outputs": [],
   "source": [
    "# write here your code"
   ]
  },
  {
   "cell_type": "markdown",
   "metadata": {
    "deletable": true,
    "editable": true
   },
   "source": [
    "### 4d. But...\n",
    "...Have you done **4c** in **one line of code**? If not, try now!"
   ]
  },
  {
   "cell_type": "code",
   "execution_count": 14,
   "metadata": {
    "collapsed": true,
    "deletable": true,
    "editable": true
   },
   "outputs": [],
   "source": [
    "# write here your code"
   ]
  },
  {
   "cell_type": "markdown",
   "metadata": {
    "deletable": true,
    "editable": true
   },
   "source": [
    "### 5. Other boring math\n",
    "Let's talk about our beloved exams. Starting from the exams and CFU below, are you able to compute the weighted mean of them?\n",
    "Let's do it and print the result.\n",
    "\n",
    "Description of the data:\n",
    "\n",
    "exams[1] = $(title_1, grade_1)$\n",
    "\n",
    "cfu[1] = $CFU_1$"
   ]
  },
  {
   "cell_type": "code",
   "execution_count": 9,
   "metadata": {
    "collapsed": true,
    "deletable": true,
    "editable": true
   },
   "outputs": [],
   "source": [
    "exams = [('BIOINFORMATICS', 29),\n",
    "         ('DATA MANAGEMENT FOR DATA SCIENCE', 30),\n",
    "         ('DIGITAL EPIDEMIOLOGY', 26),\n",
    "         ('NETWORKING FOR BIG DATA AND LABORATORY',28),\n",
    "         ('QUANTITATIVE MODELS FOR ECONOMIC ANALYSIS AND MANAGEMENT','30 e lode'),\n",
    "         ('DATA MINING TECHNOLOGY FOR BUSINESS AND SOCIETY', 30),\n",
    "         ('STATISTICAL LEARNING',30),\n",
    "         ('ALGORITHMIC METHODS OF DATA MINING AND LABORATORY',30),\n",
    "         ('FUNDAMENTALS OF DATA SCIENCE AND LABORATORY', 29)]\n",
    "\n",
    "cfu = [6,6,6,9,6,6,6,9,9]"
   ]
  },
  {
   "cell_type": "code",
   "execution_count": 10,
   "metadata": {
    "collapsed": true,
    "deletable": true,
    "editable": true
   },
   "outputs": [],
   "source": [
    "# write here your code"
   ]
  },
  {
   "cell_type": "markdown",
   "metadata": {
    "deletable": true,
    "editable": true
   },
   "source": [
    "### 5. Palindromic numbers\n",
    "Write a script which finds all the Palindromic numbers, in the range [0,**N**] (bounds included). The numbers obtained should be printed in a comma-separated sequence on a single line.\n",
    "\n",
    "What is **N**?\n",
    "Looking at the exercise before:\n",
    "**N** = (Total number of CFU) x (Sum of all the grades)\n",
    "\n",
    "(details: https://en.wikipedia.org/wiki/Palindromic_number)\n"
   ]
  },
  {
   "cell_type": "code",
   "execution_count": 11,
   "metadata": {
    "collapsed": false,
    "deletable": true,
    "editable": true
   },
   "outputs": [],
   "source": [
    "# write here your code"
   ]
  },
  {
   "cell_type": "markdown",
   "metadata": {
    "deletable": true,
    "editable": true
   },
   "source": [
    "### 6. StackOverflow"
   ]
  },
  {
   "cell_type": "markdown",
   "metadata": {
    "deletable": true,
    "editable": true
   },
   "source": [
    "Let's start using your new best friend. Now I'm going to give other task, slightly more difficult BUT this time, just googling, you will find easily the answer on stackoverflow. You can use the code there for solving the exercise BUT you have to understand the solution and after that, **COMMENT** the code, showing me you understood the thinking process behind the solution."
   ]
  },
  {
   "cell_type": "markdown",
   "metadata": {
    "deletable": true,
    "editable": true
   },
   "source": [
    "### 6. A\n",
    "Show me an example of how to use **PROPERLY** the *Try - Except* statements"
   ]
  },
  {
   "cell_type": "code",
   "execution_count": 15,
   "metadata": {
    "collapsed": true,
    "deletable": true,
    "editable": true
   },
   "outputs": [],
   "source": [
    "# write here your code"
   ]
  },
  {
   "cell_type": "markdown",
   "metadata": {
    "deletable": true,
    "editable": true
   },
   "source": [
    "#### 6. B\n",
    "Giving this list of words below, after assigning it to a variable, explain and provide me a code for obtaining a **Bag of Words** from them.\n",
    "(Hint: use dictionaries and loops)"
   ]
  },
  {
   "cell_type": "markdown",
   "metadata": {
    "deletable": true,
    "editable": true
   },
   "source": [
    "['theory', 'of', 'bron', 'firefly', 'thrones', 'break', 'bad', 'mother', 'firefly', \"haven't\", 'prison', 'big', 'friends', 'girl', 'westworld', 'bad', \"haven't\", 'gossip', 'thrones', 'your', 'big', 'how', 'friends', 'theory', 'your', 'bron', 'bad', 'bad', 'breaking', 'met', 'breaking', 'breaking', 'game', 'bron', 'your', 'breaking', 'met', 'bang', 'how', 'mother', 'bad', 'theory', 'how', 'i', 'friends', \"haven't\", 'of', 'of', 'gossip', 'i', 'robot', 'of', 'prison', 'bad', 'friends', 'friends', 'i', 'robot', 'bang', 'mother', 'bang', 'i', 'of', 'bad', 'friends', 'theory', 'i', 'friends', 'thrones', 'prison', 'theory', 'theory', 'big', 'of', 'bang', 'how', 'thrones', 'bang', 'theory', 'friends', 'game', 'bang', 'mother', 'broen', 'bad', 'game', 'break', 'break', 'bang', 'big', 'gossip', 'robot', 'met', 'i', 'game', 'your', 'met', 'bad', 'firefly', 'your']"
   ]
  },
  {
   "cell_type": "code",
   "execution_count": 16,
   "metadata": {
    "collapsed": true,
    "deletable": true,
    "editable": true
   },
   "outputs": [],
   "source": [
    "# write here your code"
   ]
  },
  {
   "cell_type": "markdown",
   "metadata": {
    "deletable": true,
    "editable": true
   },
   "source": [
    "#### 6. C\n",
    "And now, write down a code which computes the first 10 Fibonacci numbers\n",
    "\n",
    "(details: https://en.wikipedia.org/wiki/Fibonacci_number)"
   ]
  },
  {
   "cell_type": "code",
   "execution_count": null,
   "metadata": {
    "collapsed": true,
    "deletable": true,
    "editable": true
   },
   "outputs": [],
   "source": [
    "# write here your code"
   ]
  }
 ],
 "metadata": {
  "kernelspec": {
   "display_name": "Python 2",
   "language": "python",
   "name": "python2"
  },
  "language_info": {
   "codemirror_mode": {
    "name": "ipython",
    "version": 2
   },
   "file_extension": ".py",
   "mimetype": "text/x-python",
   "name": "python",
   "nbconvert_exporter": "python",
   "pygments_lexer": "ipython2",
   "version": "2.7.13"
  }
 },
 "nbformat": 4,
 "nbformat_minor": 2
}
